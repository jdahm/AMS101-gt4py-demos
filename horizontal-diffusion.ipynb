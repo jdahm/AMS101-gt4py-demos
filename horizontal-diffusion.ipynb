{
 "cells": [
  {
   "cell_type": "markdown",
   "metadata": {},
   "source": [
    "# Horizontal Fourth-Order Diffusion Demo"
   ]
  },
  {
   "cell_type": "markdown",
   "metadata": {},
   "source": [
    "This notebook demonstrates some of the basic elements of GT4Py, and how different backends integrate seamlessly into the Python development environment."
   ]
  },
  {
   "cell_type": "code",
   "execution_count": 1,
   "metadata": {},
   "outputs": [],
   "source": [
    "import copy\n",
    "import numpy as np\n",
    "\n",
    "import matplotlib\n",
    "import matplotlib.pyplot as plt\n",
    "\n",
    "import gt4py\n",
    "from gt4py import gtscript"
   ]
  },
  {
   "cell_type": "markdown",
   "metadata": {},
   "source": [
    "## Chose backend\n",
    "\n",
    "The backend options include:\n",
    "* \"debug\": generates pure Python loops\n",
    "* \"numpy\": parallel axes use numpy slicing operations for \"parallel\" computation\n",
    "* \"gtx86\": generates GridTools C++ code and compiles for an x86 processor\n",
    "* \"gtcuda\": generates GridTools C++ code and compiles for a NVIDIA GPU"
   ]
  },
  {
   "cell_type": "code",
   "execution_count": 2,
   "metadata": {},
   "outputs": [],
   "source": [
    "backend = \"numpy\""
   ]
  },
  {
   "cell_type": "markdown",
   "metadata": {},
   "source": [
    "## Define computation (horizontal 4th-order diffusion)\n",
    "\n",
    "The DSL frontend allows us to specifiy the numerical equations we want to solve. Here, we would like to solve the horizontal 4th-order hyperdiffusion equation in three dimensions, given by\n",
    "\n",
    "$$\n",
    "\\begin{eqnarray}\n",
    "\\frac{\\partial T}{\\partial t} = \\alpha \\nabla_h^4 T = \\alpha \\nabla_h^2 \\left( \\nabla_h^2 T \\right)\n",
    "\\end{eqnarray}\n",
    "$$\n",
    "\n",
    "where T is Temperature and $\\alpha$ is the diffusion coefficient. We discretize the horizontal Laplacian on a regular Cartesian grid using\n",
    "\n",
    "$$\n",
    "\\begin{eqnarray}\n",
    "\\tilde{\\nabla}_h^2 T_{i,j,k} = \\frac{T_{i-1,j,k} + T_{i+1,j,k} + T_{i,j-1,k} + T_{i,j+1,k} - 4 T_{ijk}}{\\Delta x^2}\n",
    "\\end{eqnarray}\n",
    "$$\n",
    "\n",
    "where $i, j, k$ are the directional indices in the $x, y, z$-directions and we assume $\\Delta x = \\Delta y$."
   ]
  },
  {
   "cell_type": "code",
   "execution_count": 3,
   "metadata": {},
   "outputs": [],
   "source": [
    "@gtscript.function\n",
    "def lap(T, dx):\n",
    "    return (\n",
    "        T[-1, 0, 0] + T[1, 0, 0] + T[0, -1, 0] + T[0, 1, 0] - 4.0 * T[0, 0, 0]\n",
    "    ) / (dx * dx)"
   ]
  },
  {
   "cell_type": "markdown",
   "metadata": {},
   "source": [
    "We can now discretize the diffusion equation using a simple forward in time scheme.\n",
    "\n",
    "$$\n",
    "\\begin{eqnarray}\n",
    "T^{n+1} = T^n + \\Delta t \\, \\alpha \\, \\tilde{\\nabla}^2 \\left( \\tilde{\\nabla}^2 T \\right)\n",
    "\\end{eqnarray}\n",
    "$$"
   ]
  },
  {
   "cell_type": "code",
   "execution_count": 4,
   "metadata": {},
   "outputs": [],
   "source": [
    "@gtscript.stencil(backend=backend, rebuild=True)\n",
    "def apply_diffusion(\n",
    "    T_in: gtscript.Field[float],\n",
    "    T_out: gtscript.Field[float],\n",
    "    dx: float,\n",
    "    dt: float,\n",
    "    alpha: float\n",
    "):\n",
    "    with computation(PARALLEL), interval(...):\n",
    "        tmp = lap(T_in, dx)\n",
    "        T_out = T_in + dt * alpha * lap(tmp, dx)"
   ]
  },
  {
   "cell_type": "markdown",
   "metadata": {},
   "source": [
    "## Initial state and storage allocation\n",
    "\n",
    "We need to pre-define the storages, since these may potentially be GPU storages. The storages are defined as three-dimensional arrays of a certain shape. The specification of an origin determines the number of halo-lines in x-, y- and z-direction."
   ]
  },
  {
   "cell_type": "code",
   "execution_count": 5,
   "metadata": {},
   "outputs": [
    {
     "data": {
      "image/png": "[encoded data removed]",
      "text/plain": [
       "<Figure size 432x288 with 2 Axes>"
      ]
     },
     "metadata": {
      "needs_background": "light"
     },
     "output_type": "display_data"
    }
   ],
   "source": [
    "nz = 64\n",
    "nx, ny = 128, 128\n",
    "nhalo = 2\n",
    "\n",
    "domain= (nx, ny, nz)\n",
    "shape = (nx + 2*nhalo, ny + 2*nhalo, nz)\n",
    "\n",
    "T_ic = lambda i, j, k: (np.abs(i - nx//2) < 20).astype(int) + (np.abs(j - ny//2) < 20).astype(int) == 2\n",
    "\n",
    "T_data = np.fromfunction(T_ic, shape, dtype=float).astype(float)\n",
    "plt.imshow(T_data[:,:,0], origin='lower', vmin=-0.1, vmax=1.1)\n",
    "plt.colorbar()\n",
    "\n",
    "T_in = gt4py.storage.from_array(\n",
    "    data=T_data, backend=backend, default_origin=(nhalo, nhalo, 0), shape=shape\n",
    ")\n",
    "T_out = copy.deepcopy(T_in)"
   ]
  },
  {
   "cell_type": "markdown",
   "metadata": {},
   "source": [
    "### Run the computation\n",
    "\n",
    "We define a timeloop with a given number of iterations (applications of the diffusion stencil and update of the field)."
   ]
  },
  {
   "cell_type": "code",
   "execution_count": 6,
   "metadata": {},
   "outputs": [],
   "source": [
    "def timeloop(T_in, T_out, dx, dt, alpha, nt):\n",
    "    for it in range(nt):\n",
    "        apply_diffusion(T_in, T_out, dx, dt, alpha, domain=domain)\n",
    "        T_in, T_out = T_out, T_in\n",
    "        \n",
    "dx = 1.0\n",
    "dt = 1.0\n",
    "alpha = 0.02\n",
    "nt = 100"
   ]
  },
  {
   "cell_type": "code",
   "execution_count": 7,
   "metadata": {},
   "outputs": [
    {
     "name": "stdout",
     "output_type": "stream",
     "text": [
      "2.09 s ± 131 ms per loop (mean ± std. dev. of 3 runs, 1 loop each)\n"
     ]
    }
   ],
   "source": [
    "%%timeit -n 1 -r 3\n",
    "timeloop(T_in, T_out, dx=dx, dt=dt, alpha=-alpha, nt=nt)"
   ]
  },
  {
   "cell_type": "markdown",
   "metadata": {},
   "source": [
    "### Display result and validate\n",
    "\n",
    "Plot the results with different backends and check that the results are the same."
   ]
  },
  {
   "cell_type": "code",
   "execution_count": 8,
   "metadata": {},
   "outputs": [
    {
     "data": {
      "image/png": "[encoded data removed]",
      "text/plain": [
       "<Figure size 432x288 with 2 Axes>"
      ]
     },
     "metadata": {
      "needs_background": "light"
     },
     "output_type": "display_data"
    }
   ],
   "source": [
    "if backend == 'numpy':\n",
    "    T_ref = copy.deepcopy(T_in)\n",
    "    \n",
    "plt.imshow(T_in.data[:,:,0], origin='lower', vmin=-0.1, vmax=1.1);\n",
    "plt.colorbar();\n",
    "\n",
    "if 'T_ref' in vars() and backend is 'gt':\n",
    "    assert not np.any( np.abs( T_in[:,:,0] - T_ref[:,:,0] ) > 0.0)"
   ]
  }
 ],
 "metadata": {
  "kernelspec": {
   "display_name": "Python 3",
   "language": "python",
   "name": "python3"
  },
  "language_info": {
   "codemirror_mode": {
    "name": "ipython",
    "version": 3
   },
   "file_extension": ".py",
   "mimetype": "text/x-python",
   "name": "python",
   "nbconvert_exporter": "python",
   "pygments_lexer": "ipython3",
   "version": "3.7.8"
  }
 },
 "nbformat": 4,
 "nbformat_minor": 4
}
